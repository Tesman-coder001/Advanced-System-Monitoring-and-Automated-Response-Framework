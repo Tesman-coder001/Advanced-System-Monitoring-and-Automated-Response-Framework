{
  "nbformat": 4,
  "nbformat_minor": 0,
  "metadata": {
    "colab": {
      "provenance": [],
      "authorship_tag": "ABX9TyMYhQe0RQ3WHswUPaKIaiBp",
      "include_colab_link": true
    },
    "kernelspec": {
      "name": "python3",
      "display_name": "Python 3"
    },
    "language_info": {
      "name": "python"
    }
  },
  "cells": [
    {
      "cell_type": "markdown",
      "metadata": {
        "id": "view-in-github",
        "colab_type": "text"
      },
      "source": [
        "<a href=\"https://colab.research.google.com/github/Tesman-coder001/Advanced-System-Monitoring-and-Automated-Response-Framework/blob/main/Graph_theory_for_GNN_book_part_1.ipynb\" target=\"_parent\"><img src=\"https://colab.research.google.com/assets/colab-badge.svg\" alt=\"Open In Colab\"/></a>"
      ]
    },
    {
      "cell_type": "markdown",
      "source": [
        "# Introduction of graph properties\n",
        "Graph is a mathematical structure consisting of set of objects, called vertices or nodes, and a set of connections, called edges. So G = (V,E) is the graph.\n",
        "# Directed Graph\n",
        "It is also known as the digraph, each edges has a direction or orientation\n",
        "# Undirected Graph\n",
        "It has undirected edges, where the edges has no direction"
      ],
      "metadata": {
        "id": "W0Lu8yvM_4eL"
      }
    },
    {
      "cell_type": "code",
      "execution_count": 6,
      "metadata": {
        "id": "25JJCbso_uRb"
      },
      "outputs": [],
      "source": [
        "## creation of undirected graph\n",
        "import networkx as nx\n",
        "G = nx.Graph()\n",
        "G.add_edges_from([('A','B'),('A','C'),('B','D'),('B','E'),('C','F'),('C','G')])"
      ]
    },
    {
      "cell_type": "code",
      "source": [
        "## creation of directed graph\n",
        "DG = nx.DiGraph()\n",
        "DG.add_edges_from([('A','B'),('A', 'C'), ('B', 'D'),('B', 'E'), ('C', 'F'),\n",
        " ('C', 'G')])"
      ],
      "metadata": {
        "colab": {
          "base_uri": "https://localhost:8080/"
        },
        "id": "CTB3gAhGCMww",
        "outputId": "34f9fe69-5f29-48b7-b620-b844419c541a"
      },
      "execution_count": 9,
      "outputs": [
        {
          "output_type": "stream",
          "name": "stdout",
          "text": [
            "DiGraph with 7 nodes and 6 edges\n"
          ]
        }
      ]
    },
    {
      "cell_type": "markdown",
      "source": [
        "## Weighted graphs\n",
        "Another important property of the graphs is whether the edges are weighted or unweighted. In a weighed graph each edges have a weight associated with it.\n"
      ],
      "metadata": {
        "id": "cmaY4qc7CKva"
      }
    },
    {
      "cell_type": "code",
      "source": [
        "WG = nx.Graph()\n",
        "WG.add_edges_from([('A','B',{\"weight\": 10}),('A','C', {\"weight\":20}),\n",
        " ('B', 'D',{\"weight\": 30}), ('B', 'E',{\"weight\": 40}),\n",
        "  ('C', 'F', {\"weight\": 50}), ('C', 'G',{\"weight\": 60})])\n",
        "labels = nx.get_edge_attributes(WG, \"weight\")"
      ],
      "metadata": {
        "colab": {
          "base_uri": "https://localhost:8080/"
        },
        "id": "uRQXQNRKE4vy",
        "outputId": "82a85b62-8d5f-4737-fd9b-f3acf72dd112"
      },
      "execution_count": 12,
      "outputs": [
        {
          "output_type": "stream",
          "name": "stdout",
          "text": [
            "Graph with 7 nodes and 6 edges\n"
          ]
        }
      ]
    },
    {
      "cell_type": "markdown",
      "source": [
        "##Connected graphs and disconnected graphs\n",
        "A graph which is connected if, and only if, for every pair of u and v, there exist a path from u to v.\n",
        "A graph is disconnected if it is not connected, which means that atleast two vertices are not connected with the path\n",
        "\n"
      ],
      "metadata": {
        "id": "v97iwSRDFxcQ"
      }
    },
    {
      "cell_type": "code",
      "source": [
        "## making the connected and disconnected graph\n",
        "G1 = nx.Graph()\n",
        "G1.add_edges_from([(1,2),(2,3),(3, 1),(4, 5)])\n",
        "print(f\"Is graph 1 is connected? {nx.is_connected(G1)}\")\n",
        "\n",
        "G2 = nx.Graph()\n",
        "G2.add_edges_from([(1,2),(2,3),(3,1),(1,4)])\n",
        "print(f\"Is the graph 2 is connected? {nx.is_connected(G2)}\")"
      ],
      "metadata": {
        "colab": {
          "base_uri": "https://localhost:8080/"
        },
        "id": "0xJChERWGhGK",
        "outputId": "5a8c1016-2f61-49ed-f5ab-728c5f0fd73c"
      },
      "execution_count": 18,
      "outputs": [
        {
          "output_type": "stream",
          "name": "stdout",
          "text": [
            "Is graph 1 is connected? False\n",
            "Is the graph 2 is connected? True\n"
          ]
        }
      ]
    },
    {
      "cell_type": "markdown",
      "source": [
        "## To check the connectivity of graph, another View\n",
        "There are different ways to measure the connectivity of a graph. One of the most common measures\n",
        "is the minimum number of edges that need to be removed to disconnect the graph, which is known\n",
        "as the graph’s minimum cut. The minimum cut problem has several applications in network flow\n",
        "optimization, clustering, and community detection.\n",
        "\n",
        "##Types of graphs\n",
        "1. tree\n",
        "2. rooted tree\n",
        "3. directed acyclic graph(DAG)\n",
        "4. bipartite graph\n",
        "5. Complete graph\n"
      ],
      "metadata": {
        "id": "jKhej0T_Ltjm"
      }
    },
    {
      "cell_type": "markdown",
      "source": [
        "##Discovering Graph Concept\n",
        "# 1. Fundamental Objects\n",
        "for Unidirected graph\n",
        "**Degree** of a node, which is the number of edges **incident**\n",
        "to this node.\n",
        "if the node is connected to itself (called a loop, or self-loop), it adds two to the degree.\n",
        "\n",
        "In a directed graph, the degree is divided into two types: indegree and outdegree. The indegree\n",
        "**(denoted by deg−( ))** of a node represents the number of edges that point towards that node,\n",
        "while the outdegree **(denoted by deg+( ))** represents the number of edges that start from that\n",
        "node. In this case, a self-loop adds one to the indegree and to the outdegree.\n",
        "\n",
        "\n",
        "\n"
      ],
      "metadata": {
        "id": "kjP63ZFoRVqj"
      }
    },
    {
      "cell_type": "code",
      "source": [
        "#In networkx, we can simply calculate the node degree, indegree, or outdegree using built-in methods.\n",
        "X = nx.Graph()\n",
        "X.add_edges_from([('A','B'),('A', 'C'), ('B', 'D'), ('B','E'), ('C', 'F'), ('C', 'G')])\n",
        "print(X.degree(\"A\"))\n",
        "\n",
        "DX = nx.DiGraph()\n",
        "DX.add_edges_from([('A', 'B'), ('A', 'C'), ('B', 'D'), ('B',\n",
        "'E'), ('C', 'F'), ('C', 'G')])\n",
        "print(DX.in_degree['A'])\n",
        "print(DX.out_degree['A'])"
      ],
      "metadata": {
        "colab": {
          "base_uri": "https://localhost:8080/"
        },
        "id": "wDIYHN1BKVkB",
        "outputId": "e14459da-fecb-4f34-aa94-bb5bdaea7fd3"
      },
      "execution_count": 30,
      "outputs": [
        {
          "output_type": "stream",
          "name": "stdout",
          "text": [
            "2\n",
            "0\n",
            "2\n"
          ]
        }
      ]
    },
    {
      "cell_type": "code",
      "source": [],
      "metadata": {
        "id": "z8BkargAWqoU"
      },
      "execution_count": null,
      "outputs": []
    }
  ]
}